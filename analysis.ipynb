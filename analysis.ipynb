{
 "cells": [
  {
   "cell_type": "code",
   "execution_count": 1,
   "metadata": {},
   "outputs": [],
   "source": [
    "import matplotlib.pyplot as plt\n",
    "import numpy as np\n",
    "import pandas as pd"
   ]
  },
  {
   "cell_type": "code",
   "execution_count": 56,
   "metadata": {},
   "outputs": [],
   "source": [
    "\n",
    "folders = [\n",
    "    'normal_runs',\n",
    "    'closer_clock_rates',\n",
    "    'lower_internal_prob'\n",
    "]\n",
    "gap_data = dict()\n",
    "for folder in folders:\n",
    "    runs = []\n",
    "    for i in range(1, 6):\n",
    "        avg_gaps = []\n",
    "        for p in ['a', 'b', 'c']:\n",
    "            df = pd.read_csv(f'{folder}/machine_log_{p}_{i}.txt', sep = '|')\n",
    "            arr = df.loc[:, ' Clock'].to_numpy()\n",
    "            # avg across a particular trial and process\n",
    "            avg_gaps.append(np.mean(arr[1:] - arr[:-1]))\n",
    "        # avg across a particular trials\n",
    "        runs.append(np.mean(avg_gaps))\n",
    "    gap_data[folder] = runs"
   ]
  },
  {
   "cell_type": "code",
   "execution_count": 57,
   "metadata": {},
   "outputs": [
    {
     "data": {
      "image/png": "[encoded data removed]",
      "text/plain": [
       "<Figure size 432x288 with 1 Axes>"
      ]
     },
     "metadata": {
      "needs_background": "light"
     },
     "output_type": "display_data"
    }
   ],
   "source": [
    "labels = [\n",
    "    \"Standard Runs\",\n",
    "    \"Smaller Clock Cycle Variation\",\n",
    "    \"Lower Internal Probability\"\n",
    "]\n",
    "fig, ax = plt.subplots()\n",
    "for i, folder in enumerate(folders):\n",
    "    y = np.array(gap_data[folder])\n",
    "    ax.scatter((np.arange(5) - 2) + i * 7, y, label = labels[i])\n",
    "    ax.legend(loc = [0.55, 0.8])\n",
    "    ax.set_xticks([])\n",
    "    ax.set_ylabel('Average Gap')"
   ]
  }
 ],
 "metadata": {
  "kernelspec": {
   "display_name": "base",
   "language": "python",
   "name": "python3"
  },
  "language_info": {
   "codemirror_mode": {
    "name": "ipython",
    "version": 3
   },
   "file_extension": ".py",
   "mimetype": "text/x-python",
   "name": "python",
   "nbconvert_exporter": "python",
   "pygments_lexer": "ipython3",
   "version": "3.8.3"
  },
  "orig_nbformat": 4
 },
 "nbformat": 4,
 "nbformat_minor": 2
}
